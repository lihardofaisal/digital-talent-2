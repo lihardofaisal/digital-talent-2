{
 "cells": [
  {
   "cell_type": "markdown",
   "metadata": {},
   "source": [
    "## Inisialisasi Url Lib"
   ]
  },
  {
   "cell_type": "code",
   "execution_count": 5,
   "metadata": {},
   "outputs": [],
   "source": [
    "import urllib\n",
    "\n",
    "r = urllib.request.urlopen('https://ekonomi.kompas.com/').read()\n",
    "# print(type(r))\n",
    "# print(r[1:100])"
   ]
  },
  {
   "cell_type": "markdown",
   "metadata": {},
   "source": [
    "## Inisialisasi Beautiful Soup"
   ]
  },
  {
   "cell_type": "code",
   "execution_count": 6,
   "metadata": {},
   "outputs": [],
   "source": [
    "from bs4 import BeautifulSoup\n",
    "soup = BeautifulSoup(r, 'html.parser')\n",
    "# print(type(soup))\n",
    "# print(soup.prettify())\n"
   ]
  },
  {
   "cell_type": "markdown",
   "metadata": {},
   "source": [
    "## Dapatkan semua link"
   ]
  },
  {
   "cell_type": "code",
   "execution_count": 7,
   "metadata": {},
   "outputs": [],
   "source": [
    "links = soup.find_all('a')\n",
    "# print(len(links))\n",
    "\n",
    "# for link in links:\n",
    "#     print('%s: %s'%(link.text,link[\"href\"]))\n"
   ]
  },
  {
   "cell_type": "code",
   "execution_count": 8,
   "metadata": {},
   "outputs": [],
   "source": [
    "berita_link = [link for link in links if '/read' in str(link) and 'javascript:void(0)' not in str(link) and '#' not in str(link)]\n",
    "\n",
    "# print(len(berita_link))\n",
    "\n",
    "# for link in berita_link:\n",
    "#     print('%s : %s'%(link.text.strip(),link['href']))"
   ]
  },
  {
   "cell_type": "markdown",
   "metadata": {},
   "source": [
    "## Dapatkan isi Berita"
   ]
  },
  {
   "cell_type": "markdown",
   "metadata": {},
   "source": [
    "Sebelum kita menelusuri satu per satu kita perlu tahu dahulu struktur dari sebuah halaman berita pada kompas.com untuk mendapatkan properties yang kita inginkan. \n",
    "\n",
    "Gunakan inspect element"
   ]
  },
  {
   "cell_type": "code",
   "execution_count": 35,
   "metadata": {},
   "outputs": [],
   "source": [
    "# html = urllib.request.urlopen('https://ekonomi.kompas.com/read/2018/07/27/215200426/kompascom-sabet-penghargaan-berita-online-terpercaya-dari-superbrands').read()\n",
    "\n",
    "# soup = BeautifulSoup(html,\"lxml\")\n",
    "\n",
    "# judul = soup.find(\"h1\",\"read__title\").text.strip()\n",
    "# isi_berita = soup.find(\"div\",\"read__content\").text.strip()\n",
    "# tanggal = soup.find(\"div\",\"read__time\").text.strip()\n",
    "\n",
    "# tanggal = tanggal.split(',')[0].strip().split()[2].strip()\n",
    "# print(judul)\n",
    "# print(isi_berita)\n",
    "# print(tanggal)\n"
   ]
  },
  {
   "cell_type": "markdown",
   "metadata": {},
   "source": [
    "Sebagai tambahan, python juga dapat menyimpan sebuah gambar. Disini akan coba kita terapkan untuk menyimpan gambar berita "
   ]
  },
  {
   "cell_type": "code",
   "execution_count": 42,
   "metadata": {},
   "outputs": [],
   "source": [
    "# gambar = soup.find(\"div\",\"photo\").find(\"img\")\n",
    "# print(gambar)\n",
    "# print(gambar['src'])\n",
    "\n",
    "# from PIL import Image\n",
    "# import io\n",
    "# import string \n",
    "\n",
    "# buka_gambar = urllib.request.urlopen(gambar[\"src\"]).read()\n",
    "# i = Image.open(io.BytesIO(buka_gambar))\n",
    "# exclude = set(string.punctuation)\n",
    "# judul = ''.join(ch for ch in judul if ch not in exclude)\n",
    "# nama_file = \"Images/\"+judul+\".jpg\"\n",
    "# i.save(nama_file,'JPEG')"
   ]
  },
  {
   "cell_type": "markdown",
   "metadata": {},
   "source": [
    "fungsi untuk mendapatkan isi berita"
   ]
  },
  {
   "cell_type": "code",
   "execution_count": 27,
   "metadata": {},
   "outputs": [],
   "source": [
    "from PIL import Image\n",
    "import io\n",
    "import string \n",
    "\n",
    "def getBerita(link):\n",
    "    html = urllib.request.urlopen(link).read()\n",
    "    soup = BeautifulSoup(html,\"lxml\")\n",
    "    judul = soup.find(\"h1\",\"read__title\").text.strip()\n",
    "    isi_berita = soup.find(\"div\",\"read__content\").text.strip()\n",
    "    tanggal = soup.find(\"div\",\"read__time\").text.strip()\n",
    "    tanggal = tanggal.split(',')[0].strip().split()[2].strip()\n",
    "    \n",
    "    gambar = soup.find(\"div\",\"photo\").find(\"img\")\n",
    "    \n",
    "    buka_gambar = urllib.request.urlopen(gambar[\"src\"]).read()\n",
    "    \n",
    "    i = Image.open(io.BytesIO(buka_gambar))\n",
    "    \n",
    "    exclude = set(string.punctuation)\n",
    "    judul = ''.join(ch for ch in judul if ch not in exclude)\n",
    "    nama_file = \"Images/\"+judul+\".jpg\"\n",
    "    i.save(nama_file,'JPEG')\n",
    "    return [judul,isi_berita,tanggal]"
   ]
  },
  {
   "cell_type": "markdown",
   "metadata": {},
   "source": [
    "## Dapatkan semua Data dari Link Berita"
   ]
  },
  {
   "cell_type": "code",
   "execution_count": 20,
   "metadata": {
    "scrolled": true
   },
   "outputs": [
    {
     "name": "stdout",
     "output_type": "stream",
     "text": [
      " : https://ekonomi.kompas.com/read/2018/07/27/215200426/kompascom-sabet-penghargaan-berita-online-terpercaya-dari-superbrands\n",
      "Headline\n",
      "\n",
      "\n",
      "\n",
      "Rahasia Manajemen Kegiatan ala CEO Twitter yang Bisa Ditiru\n",
      "25/10/2018, 07:08 WIB : https://ekonomi.kompas.com/read/2018/10/25/070859326/rahasia-manajemen-kegiatan-ala-ceo-twitter-yang-bisa-ditiru\n",
      "Headline\n",
      "\n",
      "\n",
      "\n",
      "Pertamina Ingin Beli Minyak dengan Mata Uang Selain Dollar AS\n",
      "24/10/2018, 20:49 WIB : https://ekonomi.kompas.com/read/2018/10/24/204900026/pertamina-ingin-beli-minyak-dengan-mata-uang-selain-dollar-as\n",
      "Headline\n",
      "\n",
      "\n",
      "\n",
      "NPL Naik, BRI Sebut Ada 3 Perusahaan Alami Kredit Macet\n",
      "25/10/2018, 06:30 WIB : https://ekonomi.kompas.com/read/2018/10/25/063000026/npl-naik-bri-sebut-ada-3-perusahaan-alami-kredit-macet\n",
      "Headline\n",
      "\n",
      "\n",
      "\n",
      "Jangan Sampai Data Baru BPS Jadi Alasan Impor Pangan 2019\n",
      "25/10/2018, 07:00 WIB : https://ekonomi.kompas.com/read/2018/10/25/070000926/jangan-sampai-data-baru-bps-jadi-alasan-impor-pangan-2019\n",
      "Rahasia Manajemen Kegiatan ala CEO Twitter yang Bisa Ditiru : https://ekonomi.kompas.com/read/2018/10/25/070859326/rahasia-manajemen-kegiatan-ala-ceo-twitter-yang-bisa-ditiru\n",
      "Pertamina Ingin Beli Minyak dengan Mata Uang Selain Dollar AS : https://ekonomi.kompas.com/read/2018/10/24/204900026/pertamina-ingin-beli-minyak-dengan-mata-uang-selain-dollar-as\n",
      "NPL Naik, BRI Sebut Ada 3 Perusahaan Alami Kredit Macet : https://ekonomi.kompas.com/read/2018/10/25/063000026/npl-naik-bri-sebut-ada-3-perusahaan-alami-kredit-macet\n",
      "Jangan Sampai Data Baru BPS Jadi Alasan Impor Pangan 2019 : https://ekonomi.kompas.com/read/2018/10/25/070000926/jangan-sampai-data-baru-bps-jadi-alasan-impor-pangan-2019\n",
      " : https://ekonomi.kompas.com/read/2018/10/25/171550526/ekspor-jasa-profesional-dipandang-perlu-dapat-pajak-nol-persen\n",
      "Ekspor Jasa Profesional Dipandang Perlu Dapat Pajak Nol Persen : https://ekonomi.kompas.com/read/2018/10/25/171550526/ekspor-jasa-profesional-dipandang-perlu-dapat-pajak-nol-persen\n",
      " : https://ekonomi.kompas.com/read/2018/10/25/171000126/kementan-bangun-humbang-hasundutan-jadi-lumbung-baru-bawang-putih\n",
      "Kementan Bangun Humbang Hasundutan Jadi Lumbung Baru Bawang Putih : https://ekonomi.kompas.com/read/2018/10/25/171000126/kementan-bangun-humbang-hasundutan-jadi-lumbung-baru-bawang-putih\n",
      " : https://ekonomi.kompas.com/read/2018/10/25/165019526/btn-akan-kerek-suku-bunga-kpr-sebesar-025-persen\n",
      "BTN akan Kerek Suku Bunga KPR Sebesar 0,25 Persen : https://ekonomi.kompas.com/read/2018/10/25/165019526/btn-akan-kerek-suku-bunga-kpr-sebesar-025-persen\n",
      " : https://ekonomi.kompas.com/read/2018/10/25/163145626/btn-hapuskan-kpr-korban-gempa-palu\n",
      "BTN Hapuskan KPR Korban Gempa Palu : https://ekonomi.kompas.com/read/2018/10/25/163145626/btn-hapuskan-kpr-korban-gempa-palu\n",
      " : https://ekonomi.kompas.com/read/2018/10/25/161140126/ojk-dorong-millenial-tak-hanya-menabung-tapi-juga-investasi\n",
      "OJK Dorong Millenial Tak Hanya Menabung, Tapi Juga Investasi : https://ekonomi.kompas.com/read/2018/10/25/161140126/ojk-dorong-millenial-tak-hanya-menabung-tapi-juga-investasi\n",
      " : https://ekonomi.kompas.com/read/2018/10/25/160800526/hingga-kuartal-iii-2018-btn-salurkan-kredit-rp-220-triliun-\n",
      "Hingga Kuartal III 2018, BTN Salurkan Kredit Rp 220 Triliun : https://ekonomi.kompas.com/read/2018/10/25/160800526/hingga-kuartal-iii-2018-btn-salurkan-kredit-rp-220-triliun-\n",
      " : https://ekonomi.kompas.com/read/2018/10/25/154928926/pasar-volatil-masih-menarikkah-investasi-saham\n",
      "Pasar Volatil, Masih Menarikkah Investasi Saham? : https://ekonomi.kompas.com/read/2018/10/25/154928926/pasar-volatil-masih-menarikkah-investasi-saham\n",
      " : https://ekonomi.kompas.com/read/2018/10/25/154008526/kemiskinan-masih-jadi-tantangan-besar-indonesia\n",
      "Kemiskinan Masih Jadi Tantangan Besar Indonesia : https://ekonomi.kompas.com/read/2018/10/25/154008526/kemiskinan-masih-jadi-tantangan-besar-indonesia\n",
      " : https://ekonomi.kompas.com/read/2018/10/25/151100726/beras-surplus-2-85-juta-ton-kepala-bps-sebut-masih-perlu-hati-hati\n",
      "Beras Surplus  2,85 Juta Ton, Kepala BPS Sebut Masih Perlu Hati-hati : https://ekonomi.kompas.com/read/2018/10/25/151100726/beras-surplus-2-85-juta-ton-kepala-bps-sebut-masih-perlu-hati-hati\n",
      " : https://ekonomi.kompas.com/read/2018/10/25/150000926/kemiskinan-single-digit-buah-kebijakan-semua-periode-pemerintahan\n",
      "Kemiskinan \"Single Digit,\" Buah Kebijakan Semua Periode Pemerintahan : https://ekonomi.kompas.com/read/2018/10/25/150000926/kemiskinan-single-digit-buah-kebijakan-semua-periode-pemerintahan\n",
      " : https://ekonomi.kompas.com/read/2018/10/25/150000426/peran-bumdes-tingkatkan-kesejahteraan-warga-desa-sumber-urip\n",
      "Peran BUMDes Tingkatkan Kesejahteraan Warga Desa Sumber Urip : https://ekonomi.kompas.com/read/2018/10/25/150000426/peran-bumdes-tingkatkan-kesejahteraan-warga-desa-sumber-urip\n",
      " : https://ekonomi.kompas.com/read/2018/10/25/145209826/pertamina-ambil-alih-blok-east-kalimantan-attaka-dari-chevron\n",
      "Pertamina Ambil Alih Blok East Kalimantan-Attaka dari Chevron : https://ekonomi.kompas.com/read/2018/10/25/145209826/pertamina-ambil-alih-blok-east-kalimantan-attaka-dari-chevron\n",
      " : https://ekonomi.kompas.com/read/2018/10/25/144500026/musim-liburan-masyarakat-indonesia-habiskan-rp-68-miliar-untuk-belanja\n",
      "Musim Liburan, Masyarakat Indonesia Habiskan Rp 6,8 Miliar untuk Belanja : https://ekonomi.kompas.com/read/2018/10/25/144500026/musim-liburan-masyarakat-indonesia-habiskan-rp-68-miliar-untuk-belanja\n",
      " : https://ekonomi.kompas.com/read/2018/10/25/143500626/btn-raup-laba-rp-2-23-triliun-di-kuartal-iii-2018\n",
      "BTN Raup Laba Rp 2,23 Triliun di Kuartal III 2018 : https://ekonomi.kompas.com/read/2018/10/25/143500626/btn-raup-laba-rp-2-23-triliun-di-kuartal-iii-2018\n",
      " : https://ekonomi.kompas.com/read/2018/10/25/141851626/ada-klaim-99-persen-orang-indonesia-hidup-pas-pasan-ini-kata-bps\n",
      "Ada Klaim 99 Persen Orang Indonesia Hidup Pas-pasan, Ini Kata BPS : https://ekonomi.kompas.com/read/2018/10/25/141851626/ada-klaim-99-persen-orang-indonesia-hidup-pas-pasan-ini-kata-bps\n",
      " : https://ekonomi.kompas.com/read/2018/10/25/140500826/beda-dengan-bps-kementan-sanggah-data-produksi-berasnya-palsu\n",
      "Beda dengan BPS, Kementan Sanggah Data Produksi Berasnya Palsu : https://ekonomi.kompas.com/read/2018/10/25/140500826/beda-dengan-bps-kementan-sanggah-data-produksi-berasnya-palsu\n",
      " : https://ekonomi.kompas.com/read/2018/10/25/132708226/lepas-saham-pengembang-meikarta-lippo-cikarang-raup-rp-235-triliun\n",
      "Lepas Saham Pengembang Meikarta, Lippo Cikarang Raup Rp 2,35 Triliun : https://ekonomi.kompas.com/read/2018/10/25/132708226/lepas-saham-pengembang-meikarta-lippo-cikarang-raup-rp-235-triliun\n",
      " : https://ekonomi.kompas.com/read/2018/10/25/131556826/ojk-di-tengah-gejolak-sektor-jasa-keuangan-ri-terjaga\n",
      "OJK: Di Tengah Gejolak, Sektor Jasa Keuangan RI Terjaga : https://ekonomi.kompas.com/read/2018/10/25/131556826/ojk-di-tengah-gejolak-sektor-jasa-keuangan-ri-terjaga\n",
      " : https://ekonomi.kompas.com/read/2018/10/25/130000226/mendag-optimis-kuliner-indonesia-genjot-transaksi-tei-2018\n",
      "Mendag Optimis Kuliner Indonesia Genjot Transaksi TEI 2018 : https://ekonomi.kompas.com/read/2018/10/25/130000226/mendag-optimis-kuliner-indonesia-genjot-transaksi-tei-2018\n",
      " : https://ekonomi.kompas.com/read/2018/10/25/125548626/terimbas-as-bursa-saham-asia-berguguran\n",
      "Terimbas AS, Bursa Saham Asia Berguguran : https://ekonomi.kompas.com/read/2018/10/25/125548626/terimbas-as-bursa-saham-asia-berguguran\n",
      "Kalahkan Singapura, Indonesia Jadi Merek Negara Paling Berharga di Asia Tenggara\n",
      "Dibaca 144.992 kali : https://ekonomi.kompas.com/read/2018/10/23/071237126/kalahkan-singapura-indonesia-jadi-merek-negara-paling-berharga-di-asia\n",
      "Dipakai untuk Apa Utang Selama 4 Tahun Pemerintahan Jokowi-JK?\n",
      "Dibaca 57.199 kali : https://ekonomi.kompas.com/read/2018/10/23/165216426/dipakai-untuk-apa-utang-selama-4-tahun-pemerintahan-jokowi-jk\n",
      "Kunci Sukses ala Para Miliarder Ini: Beruntung karena Banyak Bersyukur\n",
      "Dibaca 44.104 kali : https://ekonomi.kompas.com/read/2018/10/23/090900426/kunci-sukses-ala-para-miliarder-ini-beruntung-karena-banyak-bersyukur\n",
      "Ada Klaim 99 Persen Orang Indonesia Hidup Pas-pasan, Ini Kata BPS\n",
      "Dibaca 15.936 kali : https://ekonomi.kompas.com/read/2018/10/25/141851626/ada-klaim-99-persen-orang-indonesia-hidup-pas-pasan-ini-kata-bps\n",
      "15 Pekerjaan Ini Digemari Generasi Z, Berapa Gajinya?\n",
      "Dibaca 9.907 kali : https://ekonomi.kompas.com/read/2018/10/25/074606626/15-pekerjaan-ini-digemari-generasi-z-berapa-gajinya\n"
     ]
    },
    {
     "name": "stdout",
     "output_type": "stream",
     "text": [
      "Lepas Saham Pengembang Meikarta, Lippo Cikarang Raup Rp 2,35 Triliun\n",
      "Dibaca 7.441 kali : https://ekonomi.kompas.com/read/2018/10/25/132708226/lepas-saham-pengembang-meikarta-lippo-cikarang-raup-rp-235-triliun\n",
      "Imbas Kasus Khashoggi, Investor Asing Kabur dari Bursa Arab Saudi\n",
      "Dibaca 7.248 kali : https://ekonomi.kompas.com/read/2018/10/22/192924426/imbas-kasus-khashoggi-investor-asing-kabur-dari-bursa-arab-saudi\n",
      "Pemerintah Pamer Keberhasilan Implementasi BBM Satu Harga di Papua\n",
      "Dibaca 4.400 kali : https://ekonomi.kompas.com/read/2018/10/24/120000926/pemerintah-pamer-keberhasilan-implementasi-bbm-satu-harga-di-papua\n",
      "Ini Kronologi Adanya Dana Kelurahan\n",
      "Dibaca 4.300 kali : https://ekonomi.kompas.com/read/2018/10/24/163059926/ini-kronologi-adanya-dana-kelurahan\n",
      "Angka Harapan Hidup di Singapura Tertinggi se-ASEAN, Indonesia Nomor Berapa?\n",
      "Dibaca 3.894 kali : https://ekonomi.kompas.com/read/2018/10/24/100700126/angka-harapan-hidup-di-singapura-tertinggi-se-asean-indonesia-nomor-berapa-\n",
      " : https://ekonomi.kompas.com/read/2018/07/27/215200426/kompascom-sabet-penghargaan-berita-online-terpercaya-dari-superbrands\n",
      " : https://nasional.kompas.com/read/2018/10/17/08133311/kompascom-tersertifikasi-dalam-jaringan-internasional-penguji-informasi\n"
     ]
    }
   ],
   "source": [
    "berita = []\n",
    "\n",
    "for link in berita_link:\n",
    "    print('%s : %s'%(link.text.strip(),link[\"href\"]))\n",
    "    try:\n",
    "        a = getBerita(link[\"href\"])\n",
    "        berita.append(a)\n",
    "    except:\n",
    "        pass \n"
   ]
  },
  {
   "cell_type": "markdown",
   "metadata": {},
   "source": [
    "## Simpan ke dalam CSV"
   ]
  },
  {
   "cell_type": "code",
   "execution_count": 30,
   "metadata": {},
   "outputs": [
    {
     "name": "stdout",
     "output_type": "stream",
     "text": [
      "berhasil\n"
     ]
    }
   ],
   "source": [
    "import csv\n",
    "\n",
    "with open('data_berita.csv','w') as f:\n",
    "    writer = csv.writer(f)\n",
    "    writer.writerows(berita)\n",
    "print('berhasil')"
   ]
  },
  {
   "cell_type": "code",
   "execution_count": null,
   "metadata": {},
   "outputs": [],
   "source": []
  }
 ],
 "metadata": {
  "kernelspec": {
   "display_name": "Python 3",
   "language": "python",
   "name": "python3"
  },
  "language_info": {
   "codemirror_mode": {
    "name": "ipython",
    "version": 3
   },
   "file_extension": ".py",
   "mimetype": "text/x-python",
   "name": "python",
   "nbconvert_exporter": "python",
   "pygments_lexer": "ipython3",
   "version": "3.7.0"
  }
 },
 "nbformat": 4,
 "nbformat_minor": 2
}
