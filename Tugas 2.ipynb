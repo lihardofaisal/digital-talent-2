{
 "cells": [
  {
   "cell_type": "markdown",
   "metadata": {},
   "source": [
    "## LATIHAN 2 - Tugas List Nilai\n",
    "Diberikan sekumpulan Nilai Random antara 0 sampai dengan 100 sebanyak 250 nilai. Buatlah program untuk melakukan hal berikut:\n",
    "\n",
    "Tampilkan Angka Ganjil dari ke 250 nilai tersebut\n",
    "Tampilkan berapa banyak yang mendapatkan nilai lebih dari 70\n",
    "Tampilkan standar deviasi dari sekumpulan nilai tersebut\n",
    "Tampilkan nilai maksimum dan minimum\n",
    "Tampilkan modus dari sekumpulan nilai tersebut"
   ]
  },
  {
   "cell_type": "code",
   "execution_count": 243,
   "metadata": {},
   "outputs": [
    {
     "name": "stdout",
     "output_type": "stream",
     "text": [
      "[94, 21, 37, 76, 13, 92, 35, 23, 86, 62, 95, 41, 37, 74, 92, 17, 42, 19, 10, 25, 64, 13, 49, 32, 8, 25, 85, 96, 87, 47, 55, 66, 28, 96, 94, 38, 97, 37, 98, 58, 53, 76, 27, 85, 40, 88, 3, 61, 56, 49, 21, 3, 84, 51, 1, 98, 81, 61, 81, 70, 22, 36, 92, 65, 98, 38, 50, 44, 35, 1, 45, 23, 17, 52, 9, 33, 86, 31, 46, 79, 82, 51, 31, 22, 9, 84, 60, 51, 7, 70, 44, 42, 57, 85, 56, 68, 23, 38, 38, 51, 15, 47, 54, 30, 75, 98, 30, 64, 73, 30, 48, 43, 65, 20, 53, 63, 85, 58, 69, 49, 29, 6, 1, 94, 48, 25, 79, 26, 11, 34, 50, 56, 81, 10, 23, 14, 63, 9, 43, 70, 16, 22, 66, 40, 82, 23, 6, 87, 96, 87, 47, 4, 70, 77, 62, 36, 29, 7, 38, 21, 9, 58, 87, 3, 54, 42, 50, 61, 90, 45, 4, 10, 73, 46, 19, 92, 18, 6, 39, 71, 38, 23, 70, 15, 68, 1, 14, 29, 56, 83, 90, 29, 95, 62, 8, 72, 8, 83, 30, 67, 39, 73, 29, 41, 70, 9, 8, 71, 13, 94, 30, 45, 91, 56, 83, 79, 93, 99, 57, 22, 95, 94, 87, 34, 8, 46, 65, 36, 87, 80, 85, 56, 35, 64, 2, 11, 50, 49, 96, 21, 11, 60, 24, 65, 57, 44, 22, 41, 10, 99]\n"
     ]
    }
   ],
   "source": [
    "import random\n",
    "\n",
    "# GENERATE RANDOM\n",
    "nilaiTugas = []\n",
    "for i in range(250):\n",
    "    nilaiTugas.append(random.randrange(1,100,1))\n",
    "\n",
    "print(nilaiTugas)\n"
   ]
  },
  {
   "cell_type": "code",
   "execution_count": 244,
   "metadata": {},
   "outputs": [
    {
     "name": "stdout",
     "output_type": "stream",
     "text": [
      "List nilai ganjil:\n",
      " [21, 37, 13, 35, 23, 95, 41, 37, 17, 19, 25, 13, 49, 25, 85, 87, 47, 55, 97, 37, 53, 27, 85, 3, 61, 49, 21, 3, 51, 1, 81, 61, 81, 65, 35, 1, 45, 23, 17, 9, 33, 31, 79, 51, 31, 9, 51, 7, 57, 85, 23, 51, 15, 47, 75, 73, 43, 65, 53, 63, 85, 69, 49, 29, 1, 25, 79, 11, 81, 23, 63, 9, 43, 23, 87, 87, 47, 77, 29, 7, 21, 9, 87, 3, 61, 45, 73, 19, 39, 71, 23, 15, 1, 29, 83, 29, 95, 83, 67, 39, 73, 29, 41, 9, 71, 13, 45, 91, 83, 79, 93, 99, 57, 95, 87, 65, 87, 85, 35, 11, 49, 21, 11, 65, 57, 41, 99]\n"
     ]
    }
   ],
   "source": [
    "# ganjil\n",
    "ganjil = []\n",
    "for i in nilaiTugas:\n",
    "    if i%2!=0:\n",
    "        ganjil.append(i)\n",
    "print('List nilai ganjil:\\n',ganjil)"
   ]
  },
  {
   "cell_type": "code",
   "execution_count": 245,
   "metadata": {},
   "outputs": [
    {
     "name": "stdout",
     "output_type": "stream",
     "text": [
      "List nilai > 70:\n",
      " [94, 76, 92, 86, 95, 74, 92, 85, 96, 87, 96, 94, 97, 98, 76, 85, 88, 84, 98, 81, 81, 92, 98, 86, 79, 82, 84, 85, 75, 98, 73, 85, 94, 79, 81, 82, 87, 96, 87, 77, 87, 90, 73, 92, 71, 83, 90, 95, 72, 83, 73, 71, 94, 91, 83, 79, 93, 99, 95, 94, 87, 87, 80, 85, 96, 99]\n"
     ]
    }
   ],
   "source": [
    "# nilai > 70\n",
    "besar_70 = []\n",
    "for i in nilaiTugas:\n",
    "    if i>70:\n",
    "        besar_70.append(i)\n",
    "print('List nilai > 70:\\n',besar_70)\n"
   ]
  },
  {
   "cell_type": "code",
   "execution_count": 246,
   "metadata": {},
   "outputs": [
    {
     "name": "stdout",
     "output_type": "stream",
     "text": [
      "51.7\n",
      "Diberikan sekumpulan Nilai Random antara 0 sampai dengan 100 sebanyak 250 nilai, diasumsikan bahwa kumpulan nilai tsb sampel\n",
      "Standar Deviasi (Untuk Sampel)  26.848863025892413\n",
      "standar deviasi  28.54251391173536\n"
     ]
    }
   ],
   "source": [
    "# standar deviasi\n",
    "n = len(nilaiTugas)\n",
    "sigma_xi = 0\n",
    "for i in nilaiTugas:\n",
    "    sigma_xi = sigma_xi+nilaiTugas[i]\n",
    "rerata = float(sigma_xi)/n\n",
    "print(rerata)\n",
    "\n",
    "##coba1\n",
    "stdev = 0\n",
    "for i in nilaiTugas:\n",
    "    stdev = stdev+(nilaiTugas[i]-rerata)**2\n",
    "\n",
    "stdev =((stdev)/(n-1))**0.5\n",
    "\n",
    "print('Diberikan sekumpulan Nilai Random antara 0 sampai dengan 100 sebanyak 250 nilai, diasumsikan bahwa kumpulan nilai tsb sampel')\n",
    "print('Standar Deviasi (Untuk Sampel) ',stdev)\n",
    "\n",
    "#test \n",
    "import statistics \n",
    "print('standar deviasi ',statistics.stdev(nilaiTugas))\n",
    "\n"
   ]
  },
  {
   "cell_type": "code",
   "execution_count": 247,
   "metadata": {},
   "outputs": [
    {
     "name": "stdout",
     "output_type": "stream",
     "text": [
      "Nilai Terbesar:  98\n"
     ]
    }
   ],
   "source": [
    "# maksimum\n",
    "maksimum = nilaiTugas[0]\n",
    "for i in nilaiTugas:\n",
    "    if nilaiTugas[i]>maksimum:\n",
    "        maksimum = nilaiTugas[i]\n",
    "print('Nilai Terbesar: ',maksimum)"
   ]
  },
  {
   "cell_type": "code",
   "execution_count": 248,
   "metadata": {},
   "outputs": [
    {
     "name": "stdout",
     "output_type": "stream",
     "text": [
      "Nilai Terkecil:  1\n"
     ]
    }
   ],
   "source": [
    "# min\n",
    "minimum = nilaiTugas[0]\n",
    "for i in nilaiTugas:\n",
    "    if nilaiTugas[i]<minimum:\n",
    "        minimum = nilaiTugas[i]\n",
    "print('Nilai Terkecil: ',minimum)"
   ]
  },
  {
   "cell_type": "code",
   "execution_count": 249,
   "metadata": {},
   "outputs": [
    {
     "name": "stdout",
     "output_type": "stream",
     "text": [
      "{1: 4, 2: 1, 3: 3, 4: 2, 6: 3, 7: 2, 8: 5, 9: 5, 10: 4, 11: 3, 13: 3, 14: 2, 15: 2, 16: 1, 17: 2, 18: 1, 19: 2, 20: 1, 21: 4, 22: 5, 23: 6, 24: 1, 25: 3, 26: 1, 27: 1, 28: 1, 29: 5, 30: 5, 31: 2, 32: 1, 33: 1, 34: 2, 35: 3, 36: 3, 37: 3, 38: 6, 39: 2, 40: 2, 41: 3, 42: 3, 43: 2, 44: 3, 45: 3, 46: 3, 47: 3, 48: 2, 49: 4, 50: 4, 51: 4, 52: 1, 53: 2, 54: 2, 55: 1, 56: 6, 57: 3, 58: 3, 60: 2, 61: 3, 62: 3, 63: 2, 64: 3, 65: 4, 66: 2, 67: 1, 68: 2, 69: 1, 70: 6, 71: 2, 72: 1, 73: 3, 74: 1, 75: 1, 76: 2, 77: 1, 79: 3, 80: 1, 81: 3, 82: 2, 83: 3, 84: 2, 85: 5, 86: 2, 87: 6, 88: 1, 90: 2, 91: 1, 92: 4, 93: 1, 94: 5, 95: 3, 96: 4, 97: 1, 98: 4, 99: 2}\n",
      "modus\n",
      " [23, 38, 56, 70, 87]\n"
     ]
    }
   ],
   "source": [
    "# modus\n",
    "\n",
    "#sort by value\n",
    "for passnum in range(len(nilaiTugas)-1,0,-1):\n",
    "        for i in range(passnum):\n",
    "            if nilaiTugas[i]>nilaiTugas[i+1]:\n",
    "                temp = nilaiTugas[i]\n",
    "                nilaiTugas[i] = nilaiTugas[i+1]\n",
    "                nilaiTugas[i+1] = temp\n",
    "#konvert ke dict \n",
    "dict_nilai = dict()\n",
    "for i in nilaiTugas:\n",
    "    if i in dict_nilai:\n",
    "        dict_nilai[i] = dict_nilai[i]+1\n",
    "    else:\n",
    "        dict_nilai[i] = 1\n",
    "print(dict_nilai)\n",
    "\n",
    "#maksimum occurence\n",
    "maximum = max(dict_nilai, key=dict_nilai.get)\n",
    "max_value = dict_nilai[maximum]\n",
    "\n",
    "#append key ke list\n",
    "modus = []\n",
    "for k,v in dict_nilai.items():\n",
    "    if v == max_value:\n",
    "        modus.append(k)\n",
    "print('modus\\n',modus)\n",
    "\n",
    " \n",
    "\n",
    "    \n",
    "\n",
    "  \n",
    "\n"
   ]
  }
 ],
 "metadata": {
  "kernelspec": {
   "display_name": "Python 3",
   "language": "python",
   "name": "python3"
  },
  "language_info": {
   "codemirror_mode": {
    "name": "ipython",
    "version": 3
   },
   "file_extension": ".py",
   "mimetype": "text/x-python",
   "name": "python",
   "nbconvert_exporter": "python",
   "pygments_lexer": "ipython3",
   "version": "3.7.0"
  }
 },
 "nbformat": 4,
 "nbformat_minor": 2
}
