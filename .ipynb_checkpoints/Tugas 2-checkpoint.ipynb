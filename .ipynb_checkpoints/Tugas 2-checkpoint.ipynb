{
 "cells": [
  {
   "cell_type": "markdown",
   "metadata": {},
   "source": [
    "## LATIHAN 2 - Tugas List Nilai\n",
    "Diberikan sekumpulan Nilai Random antara 0 sampai dengan 100 sebanyak 250 nilai. Buatlah program untuk melakukan hal berikut:\n",
    "\n",
    "Tampilkan Angka Ganjil dari ke 250 nilai tersebut\n",
    "Tampilkan berapa banyak yang mendapatkan nilai lebih dari 70\n",
    "Tampilkan standar deviasi dari sekumpulan nilai tersebut\n",
    "Tampilkan nilai maksimum dan minimum\n",
    "Tampilkan modus dari sekumpulan nilai tersebut"
   ]
  },
  {
   "cell_type": "markdown",
   "metadata": {},
   "source": [
    "#### import random\n",
    "\n",
    "# GENERATE RANDOM\n",
    "nilaiTugas = []\n",
    "for i in range(250):\n",
    "    nilaiTugas.append(random.randrange(1,100,1))\n",
    "\n",
    "print(nilaiTugas)"
   ]
  },
  {
   "cell_type": "code",
   "execution_count": 22,
   "metadata": {},
   "outputs": [
    {
     "name": "stdout",
     "output_type": "stream",
     "text": [
      "List nilai ganjil:\n",
      " [73, 79, 1, 83, 57, 59, 47, 93, 87, 1, 99, 79, 89, 53, 7, 83, 95, 27, 51, 95, 1, 93, 71, 73, 79, 81, 27, 35, 61, 7, 13, 27, 53, 99, 51, 33, 3, 53, 25, 57, 17, 65, 3, 11, 55, 13, 3, 97, 63, 33, 41, 71, 39, 93, 15, 3, 27, 3, 91, 37, 63, 77, 97, 1, 47, 35, 13, 65, 99, 75, 15, 81, 9, 19, 75, 61, 81, 79, 59, 89, 13, 85, 9, 79, 5, 1, 51, 15, 77, 73, 95, 75, 29, 17, 75, 59, 41, 67, 99, 17, 75, 9, 17, 75, 23, 83, 17, 37, 63, 11, 91, 77, 73, 87, 3, 25, 83]\n"
     ]
    }
   ],
   "source": [
    "# ganjil\n",
    "ganjil = []\n",
    "for i in nilaiTugas:\n",
    "    if i%2!=0:\n",
    "        ganjil.append(i)\n",
    "print('List nilai ganjil:\\n',ganjil)"
   ]
  },
  {
   "cell_type": "code",
   "execution_count": 23,
   "metadata": {},
   "outputs": [
    {
     "name": "stdout",
     "output_type": "stream",
     "text": [
      "List nilai > 70:\n",
      " [73, 79, 90, 83, 74, 93, 96, 87, 99, 79, 89, 83, 95, 95, 92, 93, 71, 84, 73, 74, 79, 81, 98, 78, 92, 94, 99, 92, 94, 74, 92, 80, 98, 78, 72, 88, 98, 96, 97, 71, 80, 93, 74, 96, 91, 77, 97, 92, 92, 86, 99, 75, 81, 80, 72, 75, 81, 79, 89, 85, 86, 79, 82, 77, 73, 95, 75, 75, 99, 75, 75, 83, 91, 77, 74, 73, 87, 74, 83, 86]\n"
     ]
    }
   ],
   "source": [
    "# nilai > 70\n",
    "besar_70 = []\n",
    "for i in nilaiTugas:\n",
    "    if i>70:\n",
    "        besar_70.append(i)\n",
    "print('List nilai > 70:\\n',besar_70)\n"
   ]
  },
  {
   "cell_type": "code",
   "execution_count": 71,
   "metadata": {},
   "outputs": [
    {
     "name": "stdout",
     "output_type": "stream",
     "text": [
      "56.224\n",
      "Standar Deviasi  29.242534500278868\n",
      "30.25854879369468\n"
     ]
    }
   ],
   "source": [
    "# standar deviasi\n",
    "n = len(nilaiTugas)\n",
    "sigma_xi = 0\n",
    "for i in nilaiTugas:\n",
    "    sigma_xi = sigma_xi+nilaiTugas[i]\n",
    "rerata = float(sigma_xi)/n\n",
    "print(rerata)\n",
    "\n",
    "##coba1\n",
    "stdev = 0\n",
    "for i in nilaiTugas:\n",
    "    stdev = stdev+(nilaiTugas[i]-rerata)**2\n",
    "stdev = (stdev/n)**0.5\n",
    "\n",
    "print('Standar Deviasi ',stdev)\n",
    "\n",
    "\n",
    "#test \n",
    "import statistics \n",
    "print(statistics.stdev(nilaiTugas))\n",
    "\n"
   ]
  },
  {
   "cell_type": "code",
   "execution_count": 64,
   "metadata": {},
   "outputs": [
    {
     "name": "stdout",
     "output_type": "stream",
     "text": [
      "Nilai Terbesar:  99\n"
     ]
    }
   ],
   "source": [
    "# maksimum\n",
    "maksimum = nilaiTugas[0]\n",
    "for i in nilaiTugas:\n",
    "    if nilaiTugas[i]>maksimum:\n",
    "        maksimum = nilaiTugas[i]\n",
    "print('Nilai Terbesar: ',maksimum)"
   ]
  },
  {
   "cell_type": "code",
   "execution_count": 104,
   "metadata": {},
   "outputs": [
    {
     "name": "stdout",
     "output_type": "stream",
     "text": [
      "Nilai Terkecil:  1\n"
     ]
    }
   ],
   "source": [
    "# min\n",
    "minimum = nilaiTugas[0]\n",
    "for i in nilaiTugas:\n",
    "    if nilaiTugas[i]<minimum:\n",
    "        minimum = nilaiTugas[i]\n",
    "print('Nilai Terkecil: ',minimum)"
   ]
  },
  {
   "cell_type": "code",
   "execution_count": 110,
   "metadata": {},
   "outputs": [
    {
     "name": "stdout",
     "output_type": "stream",
     "text": [
      "{62: 2, 73: 4, 79: 5, 1: 5, 10: 2, 6: 5, 26: 6, 90: 1, 68: 3, 83: 4, 74: 6, 36: 1, 66: 5, 57: 2, 28: 4, 60: 4, 18: 3, 16: 4, 59: 3, 47: 2, 46: 3, 93: 3, 96: 3, 87: 2, 99: 4, 89: 2, 53: 3, 7: 2, 56: 1, 30: 5, 64: 4, 95: 3, 27: 4, 51: 3, 58: 5, 92: 6, 71: 2, 84: 1, 20: 2, 24: 5, 81: 3, 35: 2, 98: 3, 2: 6, 61: 2, 78: 2, 8: 3, 54: 2, 50: 1, 32: 3, 13: 4, 94: 2, 52: 1, 33: 2, 3: 6, 34: 2, 80: 3, 25: 2, 72: 2, 17: 5, 65: 2, 22: 2, 48: 2, 88: 1, 11: 2, 55: 1, 44: 3, 97: 2, 42: 5, 12: 1, 63: 3, 41: 2, 39: 1, 15: 3, 91: 2, 37: 2, 77: 3, 86: 3, 75: 6, 9: 3, 19: 1, 85: 1, 5: 1, 82: 1, 14: 1, 29: 1, 67: 1, 70: 1, 40: 2, 23: 1}\n",
      "6\n"
     ]
    },
    {
     "ename": "AttributeError",
     "evalue": "'dict' object has no attribute 'item'",
     "output_type": "error",
     "traceback": [
      "\u001b[1;31m---------------------------------------------------------------------------\u001b[0m",
      "\u001b[1;31mAttributeError\u001b[0m                            Traceback (most recent call last)",
      "\u001b[1;32m<ipython-input-110-d5216b7dc83e>\u001b[0m in \u001b[0;36m<module>\u001b[1;34m()\u001b[0m\n\u001b[0;32m     15\u001b[0m \u001b[0mmodus\u001b[0m \u001b[1;33m=\u001b[0m \u001b[1;33m[\u001b[0m\u001b[1;33m]\u001b[0m\u001b[1;33m\u001b[0m\u001b[0m\n\u001b[0;32m     16\u001b[0m \u001b[1;33m\u001b[0m\u001b[0m\n\u001b[1;32m---> 17\u001b[1;33m \u001b[1;32mfor\u001b[0m \u001b[0mk\u001b[0m\u001b[1;33m,\u001b[0m\u001b[0mv\u001b[0m \u001b[1;32min\u001b[0m \u001b[0mdict_nilai\u001b[0m\u001b[1;33m.\u001b[0m\u001b[0mitem\u001b[0m\u001b[1;33m(\u001b[0m\u001b[1;33m)\u001b[0m\u001b[1;33m:\u001b[0m\u001b[1;33m\u001b[0m\u001b[0m\n\u001b[0m\u001b[0;32m     18\u001b[0m     \u001b[1;32mif\u001b[0m \u001b[0mv\u001b[0m \u001b[1;33m==\u001b[0m\u001b[0mmax_value\u001b[0m\u001b[1;33m:\u001b[0m\u001b[1;33m\u001b[0m\u001b[0m\n\u001b[0;32m     19\u001b[0m         \u001b[0mmodus\u001b[0m\u001b[1;33m.\u001b[0m\u001b[0mappend\u001b[0m\u001b[1;33m(\u001b[0m\u001b[0mk\u001b[0m\u001b[1;33m)\u001b[0m\u001b[1;33m\u001b[0m\u001b[0m\n",
      "\u001b[1;31mAttributeError\u001b[0m: 'dict' object has no attribute 'item'"
     ]
    }
   ],
   "source": [
    "dict_nilai = dict()\n",
    "\n",
    "for i in nilaiTugas:\n",
    "    if i in dict_nilai:\n",
    "        dict_nilai[i] = dict_nilai[i]+1\n",
    "    else:\n",
    "        dict_nilai[i] = 1\n",
    "print(dict_nilai)\n",
    "\n",
    "maximum = max(dict_nilai, key=dict_nilai.get)\n",
    "max_value = dict_nilai[maximum]\n",
    "\n",
    "print(max_value)\n",
    "\n",
    "modus = []\n",
    "\n",
    "for k,v in dict_nilai.item():\n",
    "    if v ==max_value:\n",
    "        modus.append(k)\n",
    "print(modus)\n",
    "\n",
    "#pertama sort dulu by value \n",
    "#abis itu cari maksimum value\n",
    "#jika valuenya = maksimum \n",
    "#maka keynya append ke list \n",
    "\n",
    "    \n",
    "\n",
    "  \n",
    "\n"
   ]
  },
  {
   "cell_type": "code",
   "execution_count": null,
   "metadata": {},
   "outputs": [],
   "source": []
  }
 ],
 "metadata": {
  "kernelspec": {
   "display_name": "Python 3",
   "language": "python",
   "name": "python3"
  },
  "language_info": {
   "codemirror_mode": {
    "name": "ipython",
    "version": 3
   },
   "file_extension": ".py",
   "mimetype": "text/x-python",
   "name": "python",
   "nbconvert_exporter": "python",
   "pygments_lexer": "ipython3",
   "version": "3.7.0"
  }
 },
 "nbformat": 4,
 "nbformat_minor": 2
}
