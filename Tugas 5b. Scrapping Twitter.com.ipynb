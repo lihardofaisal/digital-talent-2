{
 "cells": [
  {
   "cell_type": "markdown",
   "metadata": {},
   "source": [
    "## Import Library dan API Token"
   ]
  },
  {
   "cell_type": "code",
   "execution_count": 72,
   "metadata": {},
   "outputs": [],
   "source": [
    "from twython import Twython\n",
    "import json\n",
    "import nltk \n"
   ]
  },
  {
   "cell_type": "markdown",
   "metadata": {},
   "source": [
    "## Sentiment Strength Detection in Bahasa Indonesia\n",
    "sumber : \n",
    "Wahid, D. H., & Azhari, S. N. (2016). Peringkasan Sentimen Esktraktif di Twitter Menggunakan Hybrid TF-IDF dan Cosine Similarity. IJCCS (Indonesian Journal of Computing and Cybernetics Systems), 10(2), 207-218."
   ]
  },
  {
   "cell_type": "code",
   "execution_count": 73,
   "metadata": {},
   "outputs": [],
   "source": [
    "TWITTER_APP_KEY = 'rSgTTp3j1rGqg9sC4dKwRD3on'\n",
    "TWITTER_APP_KEY_SECRET = 'ngI6yEbEgevxbuqNCqYcC5WtjxuknvF01pgIJiRguBGqt6bkue' \n",
    "TWITTER_ACCESS_TOKEN = '66295731-Dbhx6fyGxxuOiSsgRfncmiBXuc2VHhB2BxwcK71yy'\n",
    "TWITTER_ACCESS_TOKEN_SECRET = 'ubXQXjqkwOP3W5lt9W1fiTTm43bnO0sCkMzRQKG2TenOV'\n",
    "\n",
    "twitter = Twython(app_key=TWITTER_APP_KEY, \n",
    "            app_secret=TWITTER_APP_KEY_SECRET, \n",
    "            oauth_token=TWITTER_ACCESS_TOKEN, \n",
    "            oauth_token_secret=TWITTER_ACCESS_TOKEN_SECRET)"
   ]
  },
  {
   "cell_type": "markdown",
   "metadata": {},
   "source": [
    "## Melakukan Searching dengan Twitter API"
   ]
  },
  {
   "cell_type": "code",
   "execution_count": 74,
   "metadata": {},
   "outputs": [
    {
     "name": "stdout",
     "output_type": "stream",
     "text": [
      "{\"created_at\": \"Thu Oct 25 13:59:08 +0000 2018\", \"id\": 1055458742525784064, \"id_str\": \"1055458742525784064\", \"text\": \"@Intel_FPI Jelas niatnya adu domba...Jangan terprovokasi...\\nTetep focus \\n\\n#2019GantiPresiden \\n#2019PrabowoSandi\\u2026 https://t.co/kGkM9HJULJ\", \"truncated\": true, \"entities\": {\"hashtags\": [{\"text\": \"2019GantiPresiden\", \"indices\": [74, 92]}, {\"text\": \"2019PrabowoSandi\", \"indices\": [94, 111]}], \"symbols\": [], \"user_mentions\": [{\"screen_name\": \"Intel_FPI\", \"name\": \"Intelijen FPI\", \"id\": 927683102, \"id_str\": \"927683102\", \"indices\": [0, 10]}], \"urls\": [{\"url\": \"https://t.co/kGkM9HJULJ\", \"expanded_url\": \"https://twitter.com/i/web/status/1055458742525784064\", \"display_url\": \"twitter.com/i/web/status/1\\u2026\", \"indices\": [113, 136]}]}, \"metadata\": {\"iso_language_code\": \"in\", \"result_type\": \"recent\"}, \"source\": \"<a href=\\\"http://twitter.com/download/iphone\\\" rel=\\\"nofollow\\\">Twitter for iPhone</a>\", \"in_reply_to_status_id\": 1055368372508979200, \"in_reply_to_status_id_str\": \"1055368372508979200\", \"in_reply_to_user_id\": 927683102, \"in_reply_to_user_id_str\": \"927683102\", \"in_reply_to_screen_name\": \"Intel_FPI\", \"user\": {\"id\": 1341799184, \"id_str\": \"1341799184\", \"name\": \"Ernawan Tri\", \"screen_name\": \"AwanSac\", \"location\": \"\", \"description\": \"#SalingFollow #2019GantiPresiden #PrabowoSandi\", \"url\": null, \"entities\": {\"description\": {\"urls\": []}}, \"protected\": false, \"followers_count\": 787, \"friends_count\": 872, \"listed_count\": 0, \"created_at\": \"Wed Apr 10 12:33:14 +0000 2013\", \"favourites_count\": 1436, \"utc_offset\": null, \"time_zone\": null, \"geo_enabled\": false, \"verified\": false, \"statuses_count\": 1202, \"lang\": \"en\", \"contributors_enabled\": false, \"is_translator\": false, \"is_translation_enabled\": false, \"profile_background_color\": \"C0DEED\", \"profile_background_image_url\": \"http://abs.twimg.com/images/themes/theme1/bg.png\", \"profile_background_image_url_https\": \"https://abs.twimg.com/images/themes/theme1/bg.png\", \"profile_background_tile\": false, \"profile_image_url\": \"http://pbs.twimg.com/profile_images/1038417874740637699/xsYO3jE1_normal.jpg\", \"profile_image_url_https\": \"https://pbs.twimg.com/profile_images/1038417874740637699/xsYO3jE1_normal.jpg\", \"profile_banner_url\": \"https://pbs.twimg.com/profile_banners/1341799184/1539331483\", \"profile_link_color\": \"1DA1F2\", \"profile_sidebar_border_color\": \"C0DEED\", \"profile_sidebar_fill_color\": \"DDEEF6\", \"profile_text_color\": \"333333\", \"profile_use_background_image\": true, \"has_extended_profile\": false, \"default_profile\": true, \"default_profile_image\": false, \"following\": false, \"follow_request_sent\": false, \"notifications\": false, \"translator_type\": \"none\"}, \"geo\": null, \"coordinates\": null, \"place\": null, \"contributors\": null, \"is_quote_status\": false, \"retweet_count\": 0, \"favorite_count\": 0, \"favorited\": false, \"retweeted\": false, \"lang\": \"in\"}\n"
     ]
    }
   ],
   "source": [
    "term = '#2019gantipresiden'\n",
    "tweet_metadatas = twitter.search(q=term,count=500,result_type='recent')\n",
    "print(json.dumps(tweet_metadatas['statuses'][0]))"
   ]
  },
  {
   "cell_type": "markdown",
   "metadata": {},
   "source": [
    "## Mengambil isi tweet"
   ]
  },
  {
   "cell_type": "code",
   "execution_count": 75,
   "metadata": {},
   "outputs": [
    {
     "name": "stdout",
     "output_type": "stream",
     "text": [
      "@Intel_FPI Jelas niatnya adu domba...Jangan terprovokasi...\n",
      "Tetep focus \n",
      "\n",
      "#2019GantiPresiden \n",
      "#2019PrabowoSandi… https://t.co/kGkM9HJULJ\n"
     ]
    }
   ],
   "source": [
    "print(tweet_metadatas['statuses'][0]['text'])"
   ]
  },
  {
   "cell_type": "markdown",
   "metadata": {},
   "source": [
    "## Mengambil username"
   ]
  },
  {
   "cell_type": "code",
   "execution_count": 76,
   "metadata": {},
   "outputs": [
    {
     "name": "stdout",
     "output_type": "stream",
     "text": [
      "AwanSac\n"
     ]
    }
   ],
   "source": [
    "print(tweet_metadatas['statuses'][0]['user']['screen_name'])"
   ]
  },
  {
   "cell_type": "markdown",
   "metadata": {},
   "source": [
    "## Mendapatkan Jumlah Following dan Follower"
   ]
  },
  {
   "cell_type": "code",
   "execution_count": 77,
   "metadata": {},
   "outputs": [
    {
     "name": "stdout",
     "output_type": "stream",
     "text": [
      "787 872\n"
     ]
    }
   ],
   "source": [
    "print(tweet_metadatas['statuses'][0]['user']['followers_count'],tweet_metadatas['statuses'][0]['user']['friends_count'])"
   ]
  },
  {
   "cell_type": "markdown",
   "metadata": {},
   "source": [
    "# Menyimpan data Pada Tabel"
   ]
  },
  {
   "cell_type": "markdown",
   "metadata": {},
   "source": [
    "## Memasukkan data yang digunakan ke dalam list of dictionary"
   ]
  },
  {
   "cell_type": "code",
   "execution_count": 78,
   "metadata": {},
   "outputs": [],
   "source": [
    "data_list = []\n",
    "\n",
    "for tweet in tweet_metadatas['statuses']:\n",
    "    meta = {}\n",
    "    meta['tweet'] = tweet['text']\n",
    "    meta['timestap'] = tweet['created_at']\n",
    "    meta['user_name'] = tweet['user']['screen_name']\n",
    "    meta['follower'] = tweet['user']['followers_count']\n",
    "    meta['following'] = tweet['user']['friends_count']\n",
    "    \n",
    "    data_list.append(meta)\n",
    "    "
   ]
  },
  {
   "cell_type": "markdown",
   "metadata": {},
   "source": [
    "## Membuat Tabel untuk menyimpan data"
   ]
  },
  {
   "cell_type": "code",
   "execution_count": 79,
   "metadata": {},
   "outputs": [
    {
     "data": {
      "text/html": [
       "<div>\n",
       "<style scoped>\n",
       "    .dataframe tbody tr th:only-of-type {\n",
       "        vertical-align: middle;\n",
       "    }\n",
       "\n",
       "    .dataframe tbody tr th {\n",
       "        vertical-align: top;\n",
       "    }\n",
       "\n",
       "    .dataframe thead th {\n",
       "        text-align: right;\n",
       "    }\n",
       "</style>\n",
       "<table border=\"1\" class=\"dataframe\">\n",
       "  <thead>\n",
       "    <tr style=\"text-align: right;\">\n",
       "      <th></th>\n",
       "      <th>follower</th>\n",
       "      <th>following</th>\n",
       "      <th>timestap</th>\n",
       "      <th>tweet</th>\n",
       "      <th>user_name</th>\n",
       "    </tr>\n",
       "  </thead>\n",
       "  <tbody>\n",
       "    <tr>\n",
       "      <th>0</th>\n",
       "      <td>787</td>\n",
       "      <td>872</td>\n",
       "      <td>Thu Oct 25 13:59:08 +0000 2018</td>\n",
       "      <td>@Intel_FPI Jelas niatnya adu domba...Jangan te...</td>\n",
       "      <td>AwanSac</td>\n",
       "    </tr>\n",
       "    <tr>\n",
       "      <th>1</th>\n",
       "      <td>847</td>\n",
       "      <td>649</td>\n",
       "      <td>Thu Oct 25 13:59:07 +0000 2018</td>\n",
       "      <td>RT @CakKhum: Buah itu jatuh tak jauh dari poho...</td>\n",
       "      <td>jsandyf</td>\n",
       "    </tr>\n",
       "    <tr>\n",
       "      <th>2</th>\n",
       "      <td>117</td>\n",
       "      <td>1019</td>\n",
       "      <td>Thu Oct 25 13:59:07 +0000 2018</td>\n",
       "      <td>RT @Maulana_Tigor: Kata Pak Kyai,\\nsampai saat...</td>\n",
       "      <td>ewinkz</td>\n",
       "    </tr>\n",
       "    <tr>\n",
       "      <th>3</th>\n",
       "      <td>954</td>\n",
       "      <td>1453</td>\n",
       "      <td>Thu Oct 25 13:59:05 +0000 2018</td>\n",
       "      <td>RT @RanupsProSandi: Budget 855,5M\\nBerapa real...</td>\n",
       "      <td>babeh_jono</td>\n",
       "    </tr>\n",
       "    <tr>\n",
       "      <th>4</th>\n",
       "      <td>1492</td>\n",
       "      <td>1892</td>\n",
       "      <td>Thu Oct 25 13:59:02 +0000 2018</td>\n",
       "      <td>RT @elfizal: Ternyata Bukan Hanya bendera Tauh...</td>\n",
       "      <td>deandry</td>\n",
       "    </tr>\n",
       "  </tbody>\n",
       "</table>\n",
       "</div>"
      ],
      "text/plain": [
       "   follower  following                        timestap  \\\n",
       "0       787        872  Thu Oct 25 13:59:08 +0000 2018   \n",
       "1       847        649  Thu Oct 25 13:59:07 +0000 2018   \n",
       "2       117       1019  Thu Oct 25 13:59:07 +0000 2018   \n",
       "3       954       1453  Thu Oct 25 13:59:05 +0000 2018   \n",
       "4      1492       1892  Thu Oct 25 13:59:02 +0000 2018   \n",
       "\n",
       "                                               tweet   user_name  \n",
       "0  @Intel_FPI Jelas niatnya adu domba...Jangan te...     AwanSac  \n",
       "1  RT @CakKhum: Buah itu jatuh tak jauh dari poho...     jsandyf  \n",
       "2  RT @Maulana_Tigor: Kata Pak Kyai,\\nsampai saat...      ewinkz  \n",
       "3  RT @RanupsProSandi: Budget 855,5M\\nBerapa real...  babeh_jono  \n",
       "4  RT @elfizal: Ternyata Bukan Hanya bendera Tauh...     deandry  "
      ]
     },
     "execution_count": 79,
     "metadata": {},
     "output_type": "execute_result"
    }
   ],
   "source": [
    "import pandas \n",
    "\n",
    "data = pandas.DataFrame(data_list)\n",
    "data.head()"
   ]
  },
  {
   "cell_type": "code",
   "execution_count": 80,
   "metadata": {},
   "outputs": [],
   "source": [
    "writer = pandas.ExcelWriter('result.xlsx')\n",
    "data.to_excel(writer,'Sheet1',index=False)\n",
    "writer.save()"
   ]
  },
  {
   "cell_type": "markdown",
   "metadata": {},
   "source": [
    "## Menyimpan data ke CSV "
   ]
  },
  {
   "cell_type": "code",
   "execution_count": 81,
   "metadata": {},
   "outputs": [],
   "source": [
    "data.to_csv('result.csv',index=False)"
   ]
  }
 ],
 "metadata": {
  "kernelspec": {
   "display_name": "Python 3",
   "language": "python",
   "name": "python3"
  },
  "language_info": {
   "codemirror_mode": {
    "name": "ipython",
    "version": 3
   },
   "file_extension": ".py",
   "mimetype": "text/x-python",
   "name": "python",
   "nbconvert_exporter": "python",
   "pygments_lexer": "ipython3",
   "version": "3.7.0"
  }
 },
 "nbformat": 4,
 "nbformat_minor": 2
}
