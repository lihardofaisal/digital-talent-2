{
 "cells": [
  {
   "cell_type": "code",
   "execution_count": 3,
   "metadata": {},
   "outputs": [
    {
     "name": "stdout",
     "output_type": "stream",
     "text": [
      "masukkan berat badan anda (kg) 64\n",
      "masukkan tinggi badan anda (cm) 164\n",
      "Normal (healthy weight)\n"
     ]
    }
   ],
   "source": [
    "weight = eval(input('masukkan berat badan anda (kg) '))\n",
    "height = eval(input('masukkan tinggi badan anda (cm) '))\n",
    "height = height/100\n",
    "bmi = weight/(height*height)\n",
    "\n",
    "\n",
    "if bmi<15:\n",
    "    print('Very severely underweight')\n",
    "elif 15<=bmi and bmi<16:\n",
    "    print('Severely underweight')\n",
    "elif 16<=bmi and bmi<18.5:\n",
    "    print('Underweight')\n",
    "elif 18.5<=bmi and bmi<25:\n",
    "    print(\"Normal (healthy weight)\")\n",
    "elif 25<=bmi and bmi<30:\n",
    "    print('Overweight')\n",
    "elif 30<=bmi and bmi<35:\n",
    "    print('Moderately obese')\n",
    "elif 35<=bmi and bmi<40:\n",
    "    print('Severely obese')\n",
    "else :\n",
    "    print('Very severely obese')"
   ]
  }
 ],
 "metadata": {
  "kernelspec": {
   "display_name": "Python 3",
   "language": "python",
   "name": "python3"
  },
  "language_info": {
   "codemirror_mode": {
    "name": "ipython",
    "version": 3
   },
   "file_extension": ".py",
   "mimetype": "text/x-python",
   "name": "python",
   "nbconvert_exporter": "python",
   "pygments_lexer": "ipython3",
   "version": "3.7.0"
  }
 },
 "nbformat": 4,
 "nbformat_minor": 2
}
